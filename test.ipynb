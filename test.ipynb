{
 "cells": [
  {
   "cell_type": "code",
   "execution_count": 2,
   "metadata": {},
   "outputs": [],
   "source": [
    "from os import environ\n",
    "import sec_API as sec\n",
    "\n",
    "edgar = sec.Edgar(environ.get('sec-user-agent'))\n",
    "company = edgar.get_compnay_by_ticker('AMD')"
   ]
  },
  {
   "cell_type": "code",
   "execution_count": 25,
   "metadata": {},
   "outputs": [
    {
     "data": {
      "text/plain": [
       "{'end': '2009-12-26',\n",
       " 'val': 647000000,\n",
       " 'accn': '0001193125-10-177386',\n",
       " 'fy': 2010,\n",
       " 'fp': 'Q2',\n",
       " 'form': '10-Q',\n",
       " 'filed': '2010-08-04'}"
      ]
     },
     "execution_count": 25,
     "metadata": {},
     "output_type": "execute_result"
    }
   ],
   "source": [
    "units_dict = company.us_gaap.loc['AccountsPayableCurrent', 'units']\n",
    "usd = list(units_dict.values())[0]\n",
    "\n",
    "forms = []\n",
    "accessions = []\n",
    "for entry in usd:\n",
    "    try:\n",
    "        forms.append(entry['form'])\n",
    "    except KeyError:\n",
    "        forms.append['']\n",
    "\n",
    "    try:\n",
    "        accessions.append(entry['accn'])\n",
    "    except KeyError:\n",
    "        accessions.append('')\n"
   ]
  }
 ],
 "metadata": {
  "kernelspec": {
   "display_name": ".venv",
   "language": "python",
   "name": "python3"
  },
  "language_info": {
   "codemirror_mode": {
    "name": "ipython",
    "version": 3
   },
   "file_extension": ".py",
   "mimetype": "text/x-python",
   "name": "python",
   "nbconvert_exporter": "python",
   "pygments_lexer": "ipython3",
   "version": "3.11.9"
  }
 },
 "nbformat": 4,
 "nbformat_minor": 2
}
